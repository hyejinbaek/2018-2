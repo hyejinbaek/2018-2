{
  "nbformat": 4,
  "nbformat_minor": 0,
  "metadata": {
    "colab": {
      "name": "CRAWLING.ipynb",
      "provenance": [],
      "collapsed_sections": [],
      "authorship_tag": "ABX9TyMCRcRbvz0b6wur+nZKjKti",
      "include_colab_link": true
    },
    "kernelspec": {
      "name": "python3",
      "display_name": "Python 3"
    }
  },
  "cells": [
    {
      "cell_type": "markdown",
      "metadata": {
        "id": "view-in-github",
        "colab_type": "text"
      },
      "source": [
        "<a href=\"https://colab.research.google.com/github/hyejinbaek/2018-2/blob/master/CRAWLING.ipynb\" target=\"_parent\"><img src=\"https://colab.research.google.com/assets/colab-badge.svg\" alt=\"Open In Colab\"/></a>"
      ]
    },
    {
      "cell_type": "code",
      "metadata": {
        "id": "d74e3JyrkPyF",
        "colab_type": "code",
        "colab": {
          "base_uri": "https://localhost:8080/",
          "height": 1000
        },
        "outputId": "cd24d18c-b4a3-46a7-9585-4af7de60d312"
      },
      "source": [
        "import requests\n",
        "from bs4 import BeautifulSoup\n",
        "\n",
        "# 객체 생성\n",
        "request = requests.get(\"http://www.cu.ac.kr/plaza/notice/notice\")\n",
        "\n",
        "html = request.text\n",
        "\n",
        "# HTML 소스코드를 파이썬 객체로 변환\n",
        "soup = BeautifulSoup(html, 'html.parser')\n",
        "\n",
        "# a 태그 td는 테이블데이터 추출\n",
        "links = soup.select('td > a')\n",
        "\n",
        "for link in links:\n",
        "    # 링크가 href 속성을 가지고 있다면\n",
        "    if link.has_attr('href'):\n",
        "        # href 속성의 값으로 notice라는 문자를 포함되어 있다면\n",
        "        if link.get('href').find('notice') != -1:\n",
        "            print(link.text)"
      ],
      "execution_count": 1,
      "outputs": [
        {
          "output_type": "stream",
          "text": [
            "\n",
            "\n",
            "\t\t\t\t\t\t\t\t\t2020학년도 1학기 강의 관련 총장 담화문\t\t\t\t\t\t\t\t\t\t\t\t\t\t\t\t\n",
            "\n",
            "\n",
            "\t\t\t\t\t\t\t\t\t2020 대한민국 ROTC 모집 안내\t\t\t\t\t\t\t\t\t\t\t\t\t\t\t\t\n",
            "\n",
            "\t\t\t\t\t\t\t\t\t\t\n",
            "\t\t\t\t\t\t\t\t\t\t\t[혁신] 2020학년도 1학기 전공튜터링 신청 안내 [2차혁신사업]\t\t\t\t\t\t\t\t\t\t\t \n",
            "\n",
            "\t\t\t\t\t\t\t\t\t\t\n",
            "\t\t\t\t\t\t\t\t\t\t\t4월 SNS 이벤트 #2 DCU 학생들의 집콕클라쓰\t\t\t\t\t\t\t\t\t\t\t\t\t\t\t\t\t\t\t\t\t\n",
            "\n",
            "\t\t\t\t\t\t\t\t\t\t\n",
            "\t\t\t\t\t\t\t\t\t\t\t2020년도 청년취업아카데미(창직과정) 창직프로젝트 팀 2차 모집 공고\t\t\t\t\t\t\t\t\t\t\t \n",
            "\n",
            "\t\t\t\t\t\t\t\t\t\t\n",
            "\t\t\t\t\t\t\t\t\t\t\t2020 지역기업·청년 희망이음 지원사업 기업애로해결 프로젝트 지원 공고 안..\t\t\t\t\t\t\t\t\t\t\t \n",
            "\n",
            "\t\t\t\t\t\t\t\t\t\t\n",
            "\t\t\t\t\t\t\t\t\t\t\t2020년 한국장학재단 다문화·탈북학생 멘토링 장학금 멘토 모집 안내\t\t\t\t\t\t\t\t\t\t\t\t\t\t\t\t\t\t\t\t\t\n",
            "\n",
            "\t\t\t\t\t\t\t\t\t\t\n",
            "\t\t\t\t\t\t\t\t\t\t\t산학협력단 인재개발교육원 청년취업아카데미 직원 채용 공고\t\t\t\t\t\t\t\t\t\t\t\t\t\t\t\t\t\t\t\t\t\n",
            "\n",
            "\t\t\t\t\t\t\t\t\t\t\n",
            "\t\t\t\t\t\t\t\t\t\t\t대구가톨릭대학교 임시직 직원 채용 공고\t\t\t\t\t\t\t\t\t\t\t\t\t\t\t\t\t\t\t\t\t\n",
            "\n",
            "\t\t\t\t\t\t\t\t\t\t\n",
            "\t\t\t\t\t\t\t\t\t\t\t대구가톨릭대학교 산학협력단 안광학융합기술사업단 직원(연구직) 채용 공고\t\t\t\t\t\t\t\t\t\t\t\t\t\t\t\t\t\t\t\t\t\n",
            "\n",
            "\t\t\t\t\t\t\t\t\t\t\n",
            "\t\t\t\t\t\t\t\t\t\t\t원격 수업 지원을 위한 도서 무료 택배 서비스 안내\t\t\t\t\t\t\t\t\t\t\t\t\t\t\t\t\t\t\t\t\t\n",
            "\n",
            "\t\t\t\t\t\t\t\t\t\t\n",
            "\t\t\t\t\t\t\t\t\t\t\t4월 SNS 이벤트 #1 원격수업 맛집 추가유 당첨자 발표\t\t\t\t\t\t\t\t\t\t\t\t\t\t\t\t\t\t\t\t\t\n",
            "\n",
            "\t\t\t\t\t\t\t\t\t\t\n",
            "\t\t\t\t\t\t\t\t\t\t\t교직원 및 졸업예정자 학생 대상 전산회계 자격 취득과정 참여자 모집안내\t\t\t\t\t\t\t\t\t\t\t\t\t\t\t\t\t\t\t\t\t\n",
            "\n",
            "\t\t\t\t\t\t\t\t\t\t\n",
            "\t\t\t\t\t\t\t\t\t\t\t대학일자리센터 청년 진취성 아이디어 공모전\t\t\t\t\t\t\t\t\t\t\t\t\t\t\t\t\t\t\t\t\t\n",
            "\n",
            "\t\t\t\t\t\t\t\t\t\t\n",
            "\t\t\t\t\t\t\t\t\t\t\t해외취업 온라인 화상상담 오픈\t\t\t\t\t\t\t\t\t\t\t\t\t\t\t\t\t\t\t\t\t\n",
            "\n",
            "\t\t\t\t\t\t\t\t\t\t\n",
            "\t\t\t\t\t\t\t\t\t\t\t2020 DCU 글로벌인재양성지원단(GLOJUS) 4기 추가모집 안내\t\t\t\t\t\t\t\t\t\t\t\t\t\t\t\t\t\t\t\t\t\n",
            "\n",
            "\t\t\t\t\t\t\t\t\t\t\n",
            "\t\t\t\t\t\t\t\t\t\t\t전자책 대출이벤트  '모여봐요 E-BOOK의 숲'\t\t\t\t\t\t\t\t\t\t\t\t\t\t\t\t\t\t\t\t\t\n",
            "\n",
            "\t\t\t\t\t\t\t\t\t\t\n",
            "\t\t\t\t\t\t\t\t\t\t\t4월 SNS 이벤트 #1 원격수업 맛집 추가유\t\t\t\t\t\t\t\t\t\t\t\t\t\t\t\t\t\t\t\t\t\n",
            "\n",
            "\t\t\t\t\t\t\t\t\t\t\n",
            "\t\t\t\t\t\t\t\t\t\t\t학생신상기록부 수정 안내(신입생, 재학생 등)\t\t\t\t\t\t\t\t\t\t\t\t\t\t\t\t\t\t\t\t\t\n",
            "\n",
            "\t\t\t\t\t\t\t\t\t\t\n",
            "\t\t\t\t\t\t\t\t\t\t\t2020학년도 제 2차 생명윤리위원회 정기심의 일정 안내\t\t\t\t\t\t\t\t\t\t\t\t\t\t\t\t\t\t\t\t\t\n",
            "\n",
            "\t\t\t\t\t\t\t\t\t\t\n",
            "\t\t\t\t\t\t\t\t\t\t\t2020학년도 전체 신입생 온라인 실태조사\t\t\t\t\t\t\t\t\t\t\t\t\t\t\t\t\t\t\t\t\t\n",
            "\n",
            "\t\t\t\t\t\t\t\t\t\t\n",
            "\t\t\t\t\t\t\t\t\t\t\t2020 모의토익 및 모의토익스피킹 일정 안내\t\t\t\t\t\t\t\t\t\t\t\t\t\t\t\t\t\t\t\t\t\n",
            "\n",
            "\t\t\t\t\t\t\t\t\t\t\n",
            "\t\t\t\t\t\t\t\t\t\t\t[혁신] 2020-1학기 DCU 독서노트 공모전 참가 안내 [2차혁신사업]\t\t\t\t\t\t\t\t\t\t\t\t\t\t\t\t\t\t\t\t\t\n",
            "\n",
            "\t\t\t\t\t\t\t\t\t\t\n",
            "\t\t\t\t\t\t\t\t\t\t\t2020 DCU 글로벌인재양성지원단(GLOJUS) 4기 모집 안내\t\t\t\t\t\t\t\t\t\t\t\t\t\t\t\t\t\t\t\t\t\n",
            "\n",
            "\t\t\t\t\t\t\t\t\t\t\n",
            "\t\t\t\t\t\t\t\t\t\t\t2020학년도 대학생활 Guide E-Book 안내\t\t\t\t\t\t\t\t\t\t\t\t\t\t\t\t\t\t\t\t\t\n",
            "\n",
            "\t\t\t\t\t\t\t\t\t\t\n",
            "\t\t\t\t\t\t\t\t\t\t\tDCU대학일자리센터 SNS 홍보 서포터즈단 모집\t\t\t\t\t\t\t\t\t\t\t\t\t\t\t\t\t\t\t\t\t\n",
            "\n",
            "\t\t\t\t\t\t\t\t\t\t\n",
            "\t\t\t\t\t\t\t\t\t\t\t온라인 진로·취업 상담 JOB 아이콘택트\t\t\t\t\t\t\t\t\t\t\t\t\t\t\t\t\t\t\t\t\t\n",
            "\n",
            "\t\t\t\t\t\t\t\t\t\t\n",
            "\t\t\t\t\t\t\t\t\t\t\t2020년도 제2차 평생교육사 자격증 발급 신청 안내\t\t\t\t\t\t\t\t\t\t\t\t\t\t\t\t\t\t\t\t\t\n",
            "\n",
            "\t\t\t\t\t\t\t\t\t\t\n",
            "\t\t\t\t\t\t\t\t\t\t\t2020학년도 교육혁신원 연구교수(비전임교원) 채용 공고\t\t\t\t\t\t\t\t\t\t\t\t\t\t\t\t\t\t\t\t\t\n",
            "\n",
            "\t\t\t\t\t\t\t\t\t\t\n",
            "\t\t\t\t\t\t\t\t\t\t\t기숙사 입사 일정 취소 및 변경 안내\t\t\t\t\t\t\t\t\t\t\t\t\t\t\t\t\t\t\t\t\t\n",
            "\n",
            "\t\t\t\t\t\t\t\t\t\t\n",
            "\t\t\t\t\t\t\t\t\t\t\t코로나19 관련 학사 일정 변경 및 시설 폐관 등 종합 안내\t\t\t\t\t\t\t\t\t\t\t\t\t\t\t\t\t\t\t\t\t\n",
            "\n",
            "\t\t\t\t\t\t\t\t\t\t\n",
            "\t\t\t\t\t\t\t\t\t\t\t2020-1학기 등록금 납부 안내(변경)\t\t\t\t\t\t\t\t\t\t\t\t\t\t\t\t\t\t\t\t\t\n"
          ],
          "name": "stdout"
        }
      ]
    },
    {
      "cell_type": "code",
      "metadata": {
        "id": "gmKtETB_uby_",
        "colab_type": "code",
        "colab": {
          "base_uri": "https://localhost:8080/",
          "height": 72
        },
        "outputId": "aa6cce2d-4ae3-4ebc-f596-1d87ba92c2da"
      },
      "source": [
        "import requests\n",
        "from bs4 import BeautifulSoup\n",
        "\n",
        "class Conversation:\n",
        "  #inint은 생성자\n",
        "  def __init__(self, question, answer):\n",
        "    self.question=question\n",
        "    self.answer=answer\n",
        "\n",
        "  def __str__(self):\n",
        "    return \"질문 : \"+ self.question + '\\n답변: '+ self.answer + '\\n'\n",
        "\n",
        "def get_subjects():\n",
        "  subjects=[]\n",
        "\n",
        "  req=requests.get('https://basicenglishspeaking.com/daily-english-conversation-topics/')\n",
        "  html = req.text\n",
        "  soup = BeautifulSoup(html, 'html.parser')\n",
        "    \n",
        "  divs = soup.findAll('div', {'class': 'thrv_wrapper thrv-columns'})\n",
        "  for div in divs:\n",
        "       \n",
        "      links = div.findAll('a')\n",
        "        \n",
        "       \n",
        "      for link in links:\n",
        "          subject = link.text\n",
        "          subjects.append(subject)\n",
        "            \n",
        "  return subjects\n",
        "\n",
        "subjects = get_subjects()\n",
        "print('총', len(subjects), '개의 주제를 찾았습니다')\n",
        "print(subjects)"
      ],
      "execution_count": 4,
      "outputs": [
        {
          "output_type": "stream",
          "text": [
            "총 75 개의 주제를 찾았습니다\n",
            "['Family', 'Restaurant', 'Books', 'Travel', 'Website', 'Accident', 'Childhood memory', 'Favorite rooms', 'Presents', 'Historical place', 'Newspaper/ Magazine', 'A memorable event', 'A favorite subject', 'A museum', 'A favorite movie', 'A foreign country', 'Parties', 'A teacher', 'A friend', 'A hotel', 'A letter', 'Hobbies', 'Music', 'Shopping', 'Holiday', 'Animals', 'A practical skill', 'Sport', 'A School', 'Festival', 'Food', 'Household appliance', 'A music band', 'Weather', 'Neighbor', 'Natural scenery', 'Outdoor activities', 'Law', 'Pollution', 'Traffic jam', 'TV program', 'Architect/ Building', 'Electronic Media', 'Job/ Career', 'Competition/ contest', 'A garden', 'Hometown', 'Clothing', 'Advertisement', 'A project', 'A wedding', 'A Coffee shop', 'Culture', 'Transport', 'Politician', 'Communication', 'Business', 'Computer', 'Exercise', 'Goal/ ambition', 'Art', 'Fashion', 'Jewelry', 'Cosmetic', 'Indoor Game', 'Phone conversation', 'Learning A Second language', 'A\\xa0Creative Person', 'A celebrity', 'A Health Problem', 'Technological advancements', 'A Landmark', 'Handcraft Items', 'Plastic Surgery', 'Success']\n"
          ],
          "name": "stdout"
        }
      ]
    },
    {
      "cell_type": "code",
      "metadata": {
        "id": "VYnzZntukqVQ",
        "colab_type": "code",
        "colab": {}
      },
      "source": [
        ""
      ],
      "execution_count": 0,
      "outputs": []
    }
  ]
}